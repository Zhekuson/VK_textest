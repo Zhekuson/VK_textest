{
 "cells": [
  {
   "cell_type": "code",
   "execution_count": 64,
   "metadata": {},
   "outputs": [],
   "source": [
    "\n",
    "import numpy as np\n",
    "import pandas as pd\n",
    "\n",
    "import sklearn\n",
    "import sklearn.preprocessing\n",
    "from sklearn.metrics import log_loss\n",
    "import seaborn as sns\n",
    "import matplotlib.pyplot as plt\n",
    "import matplotlib.axes\n",
    "from sklearn.datasets import fetch_20newsgroups\n",
    "from tqdm import tqdm"
   ]
  },
  {
   "cell_type": "code",
   "execution_count": 3,
   "metadata": {},
   "outputs": [],
   "source": [
    "test = fetch_20newsgroups(subset='test')"
   ]
  },
  {
   "cell_type": "code",
   "execution_count": 4,
   "metadata": {},
   "outputs": [],
   "source": [
    "df = pd.DataFrame(test['data'], columns=['text'])"
   ]
  },
  {
   "cell_type": "code",
   "execution_count": 5,
   "metadata": {},
   "outputs": [
    {
     "data": {
      "text/plain": [
       "'From: v064mb9k@ubvmsd.cc.buffalo.edu (NEIL B. GANDLER)\\nSubject: Need info on 88-89 Bonneville\\nOrganization: University at Buffalo\\nLines: 10\\nNews-Software: VAX/VMS VNEWS 1.41\\nNntp-Posting-Host: ubvmsd.cc.buffalo.edu\\n\\n\\n I am a little confused on all of the models of the 88-89 bonnevilles.\\nI have heard of the LE SE LSE SSE SSEI. Could someone tell me the\\ndifferences are far as features or performance. I am also curious to\\nknow what the book value is for prefereably the 89 model. And how much\\nless than book value can you usually get them for. In other words how\\nmuch are they in demand this time of year. I have heard that the mid-spring\\nearly summer is the best time to buy.\\n\\n\\t\\t\\tNeil Gandler\\n'"
      ]
     },
     "execution_count": 5,
     "metadata": {},
     "output_type": "execute_result"
    }
   ],
   "source": [
    "df.iloc[0]['text']\n"
   ]
  },
  {
   "cell_type": "code",
   "execution_count": 33,
   "metadata": {},
   "outputs": [],
   "source": []
  },
  {
   "cell_type": "code",
   "execution_count": null,
   "metadata": {},
   "outputs": [],
   "source": []
  },
  {
   "cell_type": "code",
   "execution_count": 6,
   "metadata": {},
   "outputs": [
    {
     "name": "stderr",
     "output_type": "stream",
     "text": [
      "Downloading: 100%|██████████| 784k/784k [00:01<00:00, 413kB/s]  \n",
      "Downloading: 100%|██████████| 1.03M/1.03M [00:02<00:00, 468kB/s] \n",
      "Downloading: 100%|██████████| 2.48M/2.48M [00:05<00:00, 496kB/s] \n",
      "Downloading: 100%|██████████| 293M/293M [02:35<00:00, 1.98MB/s] \n"
     ]
    }
   ],
   "source": [
    "from transformers import AutoTokenizer, AutoModelForSeq2SeqLM\n",
    "\n",
    "tokenizer = AutoTokenizer.from_pretrained(\"Helsinki-NLP/opus-mt-en-ru\")\n",
    "\n",
    "model = AutoModelForSeq2SeqLM.from_pretrained(\"Helsinki-NLP/opus-mt-en-ru\")"
   ]
  },
  {
   "cell_type": "code",
   "execution_count": null,
   "metadata": {},
   "outputs": [],
   "source": []
  },
  {
   "cell_type": "code",
   "execution_count": 34,
   "metadata": {},
   "outputs": [
    {
     "ename": "AttributeError",
     "evalue": "'MarianMTModel' object has no attribute 'summary'",
     "output_type": "error",
     "traceback": [
      "\u001b[1;31m---------------------------------------------------------------------------\u001b[0m",
      "\u001b[1;31mAttributeError\u001b[0m                            Traceback (most recent call last)",
      "\u001b[1;32m~\\AppData\\Local\\Temp/ipykernel_33272/3470139634.py\u001b[0m in \u001b[0;36m<module>\u001b[1;34m\u001b[0m\n\u001b[1;32m----> 1\u001b[1;33m \u001b[0mmodel\u001b[0m\u001b[1;33m.\u001b[0m\u001b[0msummary\u001b[0m\u001b[1;33m(\u001b[0m\u001b[1;33m)\u001b[0m\u001b[1;33m\u001b[0m\u001b[1;33m\u001b[0m\u001b[0m\n\u001b[0m",
      "\u001b[1;32m~\\AppData\\Local\\Programs\\Python\\Python39\\lib\\site-packages\\torch\\nn\\modules\\module.py\u001b[0m in \u001b[0;36m__getattr__\u001b[1;34m(self, name)\u001b[0m\n\u001b[0;32m   1175\u001b[0m             \u001b[1;32mif\u001b[0m \u001b[0mname\u001b[0m \u001b[1;32min\u001b[0m \u001b[0mmodules\u001b[0m\u001b[1;33m:\u001b[0m\u001b[1;33m\u001b[0m\u001b[1;33m\u001b[0m\u001b[0m\n\u001b[0;32m   1176\u001b[0m                 \u001b[1;32mreturn\u001b[0m \u001b[0mmodules\u001b[0m\u001b[1;33m[\u001b[0m\u001b[0mname\u001b[0m\u001b[1;33m]\u001b[0m\u001b[1;33m\u001b[0m\u001b[1;33m\u001b[0m\u001b[0m\n\u001b[1;32m-> 1177\u001b[1;33m         raise AttributeError(\"'{}' object has no attribute '{}'\".format(\n\u001b[0m\u001b[0;32m   1178\u001b[0m             type(self).__name__, name))\n\u001b[0;32m   1179\u001b[0m \u001b[1;33m\u001b[0m\u001b[0m\n",
      "\u001b[1;31mAttributeError\u001b[0m: 'MarianMTModel' object has no attribute 'summary'"
     ]
    }
   ],
   "source": []
  },
  {
   "cell_type": "code",
   "execution_count": 45,
   "metadata": {},
   "outputs": [],
   "source": [
    "input_ids = tokenizer(df.iloc[0]['text'], return_tensors='pt').input_ids\n",
    "attention_mask = input_ids.ne(model.config.pad_token_id).long()\n",
    "decoder_input_ids = tokenizer(df.iloc[0]['text'], return_tensors='pt').input_ids\n",
    "outputs = model(input_ids, attention_mask, decoder_input_ids)"
   ]
  },
  {
   "cell_type": "code",
   "execution_count": 62,
   "metadata": {},
   "outputs": [],
   "source": [
    "from transformers import pipeline\n",
    "\n",
    "model_checkpoint = \"Helsinki-NLP/opus-mt-en-ru\"\n",
    "translator = pipeline(\"translation\", model=model_checkpoint, max_length=2048)\n"
   ]
  },
  {
   "cell_type": "code",
   "execution_count": 65,
   "metadata": {},
   "outputs": [
    {
     "name": "stderr",
     "output_type": "stream",
     "text": [
      "100%|██████████| 100/100 [17:59<00:00, 10.79s/it]\n"
     ]
    }
   ],
   "source": [
    "translations = []\n",
    "N = 100\n",
    "for i in tqdm(range(N)):\n",
    "    try:\n",
    "        translations.append(translator(df['text'][i]))\n",
    "    except:\n",
    "        N += 1"
   ]
  },
  {
   "cell_type": "code",
   "execution_count": 66,
   "metadata": {},
   "outputs": [
    {
     "data": {
      "text/plain": [
       "[[{'translation_text': 'С: v064mb9k@ubvmsd.cc.buffalo.edu (NEIL B. GANDLER) Тема: нужда в информации по 88-89 Bonneville Organization: University at Buffalo Lines: 10 News-Software: VAX/VMS VNEWS 1.41 Nntp-Posting-Host: ubvmsd.cc.buffalo.edu я немного запуталась по всем моделям 88-89 Бонневильских. Я слышала о LE SEE SSE SSEI. Кто-нибудь может сказать мне, что различия далеки от характеристик или результатов. Мне также любопытно узнать, какая ценность книги предпочтительнее 89. И насколько меньше, чем ценность книги, вы можете получить их обычно. Иными словами, как много они требуют в это время года. Я слышала, что лето в середине весны - лучшее время для покупки.'}],\n",
       " [{'translation_text': 'Из: Rick Miller <rick@ee.uwm.edu> Тема: X-Face? Организация: Только я. 17 District: World NNTP-Posting-Host: 129.89.2.33 Резюме: Вперёд... заблокируй меня. <EEP!> Я не знаком с форматом этих \"X-Face\": но после того, как я увидел их в заголовках некоторых людей, я, кажется, не смогу их увидеть, я не смогу найти ни одного X-Face: \"Dpg-view\" в моем блоке \"Linux\" (который показывает \"некорректированный X-Face\") и мне удалось скомпилировать тоже... но теперь, когда я их искал*, я не могу найти ни одного X-Face\", я не могу найти ни одного X-Face!'}],\n",
       " [{'translation_text': 'Из: Mathew <Mathew@mantis.co.uk> Тема: Re: strONG & sлабая организация по атеизму: Mantis Консультанты, Кембридж. UK. X-Newsreader: runews v1.02 Lines: 9 acooper@mac.cc.macalstr.edu (Turin Turambar, ME Division of Utter Misery) пишет: > Удалось ли когда-либо изменить FAQ, чтобы вновь демобилизовать сильных атеистов не как тех, кто > утверждает, что Бог не существует, а как те, кто утверждает, что они БЕРИВАЮТ в > отсутствие Бога?'}],\n",
       " [{'translation_text': 'В статье <1r2m21m.asd.sgi.com>, listey@solnze.wpd.sgi.com (Jon Lives.ac.uk) пишет:>, nrp@st-andrews.ac.uk (Norman R. Paterson) пишет:> В статье <1r2m2mo@fido.asd.sgi.com>, listey@solntsze.wp.sgi.com (Jon Livesey) пишет:> > В статье <pr1915902.21216@strvrews.ac.uk > international respectives > that internative respectives > internical respectives > that internative respectives. > international respectings internationals.'}],\n",
       " [{'translation_text': 'Из: PETCH@gvg47.gvg.tek.com (Чак) Тема: Дейли Стихийные Линии: 3 Деспотичные деньги исчезают, но тот, кто собирает деньги понемногу, выращивает их.'}],\n",
       " [{'translation_text': 'Из: Fortmann@superbowl.und.ac.za (Pol Fortmann - PG) Тема: \"The Word Ferfect\" EXE должен быть организован: Университет Наталя (Дурбан) Линии: 14 моему другу удалось получить копию компьютеризированного греческого и еврейского лексикона под названием \"The Word Effect\" (это не слово для обработки пакета WordPerfect). Однако, кто-то стер файл EXE, и она не смогла восстановить его. В Южной Африке нет дистрибьюторов пакета. Я был бы признателен, если бы кто-то мог отправить мне файл или, по крайней мере, сказать мне, откуда я могу его получить. Мой адрес по электронной почте fortmann@superboul.und.ac.za или fortmann@shrike.und.ac.'}],\n",
       " [{'translation_text': 'С: kartik@hls.COM (Kartik Chandersekhar) Тема: Multical (Ne Simultaneous) Service Organization: The Internet Lines: 13 NNTP-Post-Host: enterpoop.mit.edu To: xpert@expo.lcs.mit.edu Hi, у нас есть требование для динамического закрытия и открытия различных дисплейных серверов в X-прикладной программе таким образом, чтобы в любое время было только одно дисплей, связанное с клиентом.'}],\n",
       " [{'translation_text': 'С: tmc@spartan.ac.BrockU.CA (Tim Ciceran) Тема: Ре: Превращение фотоснимков в тепловые и/или отрицательные: Brock University, St. Catharines Ontario X-Newsreader: TIN [версия 1.1 PL9] Lines: 22 Дженнифер Линн Урсо (ju23+@andrue.cmu.edu) написала: : : : ну, у меня есть большой опыт сканирования изображений и изменения: они. Что касается изменения их обратно на отрицательные, то это действительно возможно? : (снято) : jennifer urso: о-очень горькая женщина с блесковой (но веселой: снизу) я использую Aldus Photostylister на ПК и я могу превратить черный или белый образ в негативный или черный и белый образ. Я не знаю, как это работает, но я сканирую нега и использую Aldus для создания позитивного. Это выглядело лучше, чем распечатки, которые мне дали фильм.'}],\n",
       " [{'translation_text': 'Из: sirosh@cs.utexas.edu (Joseph Sirosh) Тема: X Выбор дизайна для обработки цветов: организация вопросов: CS Dept, Техасский университет на Остинской линии: 16 NNTP-Posting-host: cascais.cs.utexas.edu Keyworks: цвет Большинство графических систем, которые я видел, имеют рутины рисования, которые также определяют цвет рисунка (x,y, цвет) или рисунка (x1,y1, x2, color) или Filrectangle (x1,y2, y2,coloor) или Filrectgle (x1, y2, y2, color) с X, я должен сделать что-то вроде XSetForefound (нынешний_color) XDrawPoint(d,w,x,y) Почему X дизайнеры решили не связывать цвет с объектом, который нарисовывается?'}],\n",
       " [{'translation_text': 'С: Ray@unisql.UUCP (Ray Shea) Тема: Ре: Ок, я был немного поспешным... Организация: UniSQL, Inc., Austin, Texas, USA Lines: 22 В статье <spidy.173@engr.leatch.edu> Быстрое@engr.leatch.edu (Speedy Mercer) пишет: > В статье <5295@unisql.UUCP> Ray@unisql.UUCP (Ray Sea) пишет:>* Всё* в Луизиане связано с ликером: еда, спящий, ходьба, >>\" Tarking, церковь, государство, жизнь, смерть и все в промежутках между. > > Как DARE вы делаете такое обвинение! Acccction? Я думал, что это было рекомендацией. (Я имею в виду, я вырос там, я должен знать).'}],\n",
       " [{'translation_text': 'С: jacobs@cerritos.edu Тема: Типографское издание проблемы Quark в организации SWII: Cerritos College, Norwalk CA Lines: 15 Iv\\'e имеет проблемное печатание со StyleWriterII. Я печатаю с IIvx с 20 megs taw. Я пытаюсь напечатать файл Кварка, в котором два шрифта имеют пару ящиков и три градиента заполнены. Два события происходят: я получаю ошибку \"Disk - это полный\" , которую я не могу найти документально подтвержденными, у меня также есть части букв, которые над одним из градиентных наливов отрезаются. Это происходит только с текстом на заправке. Текст в другой коробке недействует. Любые идеи?'}],\n",
       " [{'translation_text': 'С: Venente@cenaath.dgac.fr (Martin VIVENTE (CENA/SID)) Тема: 3D-вводное устройство Источник: navente@milou Keywords: 3d, input, devication Organization: C.E.N.A. (Центр исследований в области судоходства в Африке) Линии: 11 Hello, я также интересуюсь этими устройствами. Могли бы также направить мне ваши предложения.'}],\n",
       " [{'translation_text': 'Тема: Ре: Электронные компоненты и X-Xxmessage-Id: <A7FR05D0F6016515@dialup-slip-1-21.gw.edu> X-Xxsdate: fr, 23 Apr 93 02:32:48 GMT Nntp-Post: набрать-slip-1-21.gw.umn.edu Организация: персианская кошка и ковер-ковер: Nuntius v1.1d7 Lines: 19: >Cipher лента ездит 10,00 то, чем был мальчик SILLY, сейчас у меня есть зиллионы сообщений, как \"что включает в себя короткую перевозку\" — это «это ски» — «что это длинная версия» — «что это более длинная версия», «будут работать над макегорьем gargantabrain 9000» Ok, сделка заключается в том, что если вы живёте в близнецах, по электронной почте, и установить время, конечно, для того, чтобы было «переть» (эточное на десяти-десяти-десяти-тринад.'}],\n",
       " [{'translation_text': 'С: dlb5404@tabuts.tamu.edu (Daryl Biberdorf) Тема: TEXAS HB 1776 - VOTING IS ThoDAY Организация: Техасский университет A&M, Коллед Стейшн Лайнз: 8 Распространение: USA NNTP-Post-Host: tatutts.tamu.edu Я только что позвонил в службу отслеживания законопроектов Техаса и узнал, что HB 1776 (Consealed Der) запланирован на пол TDAY!'}],\n",
       " [{'translation_text': 'С: jth@bach.udel.edu (Jay Thomas Hayes) Тема: Lotus 1-2-3 ver 3.4 Forsele Nntp-Posting-Host: bach.udel.edu Организация: Университет Делавэра Распространение: wea Lines: 10 ************************* NICE *********** У меня есть дополнительная копия Lotus 1-2-3 ver 3.4 для DOS. Этот пакет первоначально составлял 600 долл. США.'}],\n",
       " [{'translation_text': 'С: prb@acess.digex.net (Pat) Тема: Ре: HST Servicing Mission, запланированная на 11 дней Организация: Express Access Online Communications USA Lines: 14 NNTP-Post-Host: доступ.digex.net'}],\n",
       " [{'translation_text': 'С: cadiz@rtsg.mot.com (Jay Cadiz) Тема: GTS Lear Light Counts Nntp-Post-Host: azure5 Organization: Motorola Inc., Cellular Infrastructure Group Distribution: waya Lines: 15 У меня есть 90 Eagle Talon и мне нужна пара обложек GTS. Вообще-то, они поворачиваются с тех пор, как в том году в Талонах были вспыхивающие огни. Я пошла в автомастерскую и купила выключатели за 45 долларов, но у них не было на складе покрытий сигналами. Я спросила, сколько это будет стоить мне еще 40 долларов. Я подумала, что это будет слишком дорого для двух небольших пластиков. Может кто-нибудь найти мне дешевую пару или даже одну из них? Jay Cadiz@marble.rtsg.mot.com Motorola, Inc.'}],\n",
       " [{'translation_text': \"В статье <1873@yetti.UUCP> cs902033@cs.yorku.ca (CHIN Hntp-Post-Host: mcs-jha.dseg.ti.com Ответ-To: anderson@dseg.ti.com Lines: 22 В статье <1873@yetti.UUCP> cs902033@cs.yorku.ca (CHIN Hntp-Posting-Host: mcs-jha.dseg.com Ответ-To: Andersway 2000 66V systen and the Zeos's system: 22. В статье <1873@yetti.UUPCP> cs902033@cs.cs.\"}],\n",
       " [{'translation_text': 'С: dhliu@solar.csie.ntu.edu.tw (Der-Hua Lu) Тема: ключевые коды для XKeyReradEvent?? Nntp-Posting-host: jupiter.csie.ntu.edu.tw Organization: The Deption of Computer Science and Information Engineer: TIN [версия 1.1 PL9] Lines: 15 Я пишу X-celeReradEvent.'}],\n",
       " [{'translation_text': 'С: hps@KEKOA.JACH.HAWAII.EDU (Henry Stilmack - JAC System Mgr.) Тема: Выбор менеджера окна: hps@KEKOA.JACH.HAWAII.EDU Организация: Соединенное Королевство/Канада/Нидерланды Совместный астрономический центр, Hilo, Гавайские линии: 13 A, пока кто-то (т.е. несколько месяцев) разместил метод, позволяющий пользователю выбирать (через XMenu и что-то еще?) в интерактивном режиме в X стартовое время. Не мог бы оригинальный плакат (или кто-либо еще) направить мне копию этого метода, поскольку я потеряла первоначальную выставку?'}],\n",
       " [{'translation_text': 'С: S9131783@valiant.vut.EDU.AU (Роберт Б. Харви) Тема: Недостаток в организации Mac SE: Технологический университет Виктории, Мельбурн, Австралийские линии: 13. Я пытаюсь найти программу, которая остановит Macs от плюнуть на свой диск. Мне сказали, что он существует, но я не могу его найти. Кто-нибудь знает, где я могу его найти? Спасибо Роберту Харви Дейт Программеру Информационной Технологии Виктории Университет S9131783@valiant.vut.edu.au.'}],\n",
       " [{'translation_text': 'С: mcook@cs.ulowell.edu (Michael Kook) Тема: Организация погрешностей в чеках CMOS: UMass-Lowell Computer Science Lines: 10 Недавно я получил ошибку в чеках CMOS, когда я впервые включил свой компьютер. Это происходит не каждый раз, когда я включаю его, и я не могу предсказать, когда это произойдет. У меня есть AMI BIOS и все настройки, например типы дисков и пароли. Однако дата и время остаются верными. Если кто-то знает, что может вызвать это, пожалуйста, дайте мне знать. Спасибо, Майк, Майк.'}],\n",
       " [{'translation_text': 'С: cmk@athena.mit.edu (Charles M Kosierok) Тема: Ре: Босокс снова побеждает! (5-2 против Сиэтла) Организация: Массачусетский технологический институт: 27 NNTP-Posting-Host: электрический монах.mit.edu В статье <jxu.735398917@lack.clarku.edu> jxu@lack.clarkku.edu (Dark Wing Duck!!) пишет: }Прошлая ночь, Бостон Ред Сокс выигрывает свои 11 игр в 14 играх, побеждая в Сиэтле } 5-2. Роджер Клемсон бьет не так, он шел по крайней мере 6 человек в первых 6-н. Но Валетин и Гринвелл хитранили дома и Ред Сокс восторжествовали.'}],\n",
       " [{'translation_text': 'Из: Youyj@mace.cc.purdue.edu (Young-jong You) Тема: 24 бит на LCII? Ключевые слова: Организация по адаптации третьей стороны: Распространение в университете Purdue: waya Lines: 7 Есть ли какой-либо адаптер для третьей стороны для съедания 24-битного цвета на LCII? Я слышал, что Apple продает его aroung 160$. Пожалуйста, по электронной почте. Спасибо. Young Yeyyj@mace.cc.purdue.edu'}],\n",
       " [{'translation_text': 'С: pw4963@thor.albany.edu (Peter White) Тема: Мак LCII 4/80 для организации продажи: Нью-Йоркский государственный университет на Olbany Distribution: Ny Lines: 10 У меня есть mac LCII 4/80, только мышь и мышь... нет монитора или клавиатуры. 800 OBO -- Peter White pw4963@csc.albany.edu pwhite@mac.archive.umich.edu'}],\n",
       " [{'translation_text': 'a) Тема: Захотелось ли: 3d для трансляции либер для PC X-Newsreader: TIN [версия 1.1 PL6] Организация: Wilfrid Lorier University Lines: 19: Знает ли кто-нибудь о достойной библиотеке рутинных графиков для выполнения 3D моделирования на ПК? В идеале рутины будут встроены в нашу программу прикладных программ. Требования (список): - плоское моделирование поверхности (необязательно) - способность нарисовать скрытые рисунки - картирование текстов - как процедурное, так и битовое картирование - моделирующие источники света (местные, дистанционные и точечные огни) - Рэй-трак - Радиоприменение (факультативно) - Любые замечания будут приветствоваться. Джон Чинник - jchinnic@mach1.wlu.ca телефон: (519) 888-9666 -- Джон Чинник -- jchinniк -- jchnic@mach1.wlu.ca.'}],\n",
       " [{'translation_text': 'С: campbers@craft.clarkson.edu (Bob Cambell) Тема: Re: Challenge to Microsofters. News-Software: IBM OS/2 PM RN (NR/2) v0.17 O. Vishnepolsky и R. Rogers Lines: 7 Response-To: bswan@vax.cns.muskingum.edu Disclawer: Это сообщение отражает взгляды плаката, не обязательно из IBM. Nntp-Posting-Host: campbers.bocaraton.ibm.com Organization: Clarson University Yamanari, ---Hey не смешно, как в них прослушиваются бетаы.'}],\n",
       " [{'translation_text': 'С: egreen@east.sun.com (Ed Green - Pixel Cruncher) Тема: &lt; &lt; Точка для права на гельмет &gt; &gt; является точкой для организации: Sun Microsystems, RTP, NC lines: 20 Distribution: World Response-To: egreen@east.sun.com NNTP-Posting-Host: лазер.east.sun.com В статье i8n@agate.berkeley.edu, manish@uclink.berkeley.edu (Manish Vij) пишет: >>>Моторциклы не допускаются на 17 миль, если вы едете на велосипеде. > что? > > > здесь есть знаки? > за что они вас ссылаются? Они не могут. Это закрытая дорога, вы платите, чтобы попасть (если у вас нет наклетки) и они просто не открываются ворота, если вы на велосипеде -- Эд Грин, бывший Ниндайт я пил вчера пился с бикером, Эдом, Грентом, это не может быть.'}],\n",
       " [{'translation_text': 'Из: remcoha@htsa.aha.nl (Remco Hartog) Тема: RGB-HVS, а также организация: Hogeschool van Ammap, The Nederland, E.E. & C.S. Deption. Lines: 9 У меня есть маленький вопрос: мне нужно преобразовать RGB-кодированные (Red-Green-Blue) цвета, кодируемые HVS (Hue-Value-Saturnation). Кто-нибудь знает, какие формулы использовать? Спасибо! R.W.Hartog remcoha@solist.htsa.ah.nl.'}],\n",
       " [{'translation_text': 'С: Holland@Colostate.EDU (Douglas creg Holland) Тема: Вспоминая людей, крипто предназначен только для хакеров и стриптизёров, и только Nntp-Post-Host: bethoven.c.colostate.edu Organization: Colorado State University, Computer Science Department Lines: 22 В статье <strlgtC5wJAG.46L@netcom> strnlght@netcom.com (David Sternlight) пишет: >Dug Holland утверждает, что Том Клэнси предоставил рецепт ядерных бомб. > Clanci сам говорит, что он упустил некоторые ключевые шаги. Далее, как мы узнаем, вместо того чтобы повторять то, что он читает или что ему говорили в моем «неклассифицированном доме»? > Tom Clancision опустил эти ключевые шаги для того, чтобы предотвратить распространение ядерного оружия. Однако он утверждает, что вы можете найти эти ключевые шаги в любой университетской библиотеке.'}],\n",
       " [{'translation_text': 'С: wier@merlin.etsu.edu (Bob Wier) Тема: Adobe Photoshop Mailing List Organization: East Texas State University Lines: 16 я просмотрел и не смог придумать список рассылки или группу новостей для пользователей Adobe Photoshop. Предположим, что я просто не пропустил его, я пойду и посмотрю, достаточно ли заинтересован, чтобы начать список рассылки (и/или альт.'}],\n",
       " [{'translation_text': 'С: ee92jks@brunel.ac.uk (Jonathan K Savill) Тема: Ре: тройная организация: Brunel University, Uxbridge, UK X-Newsreader: TIN [версия 1.1 PL9] Lines: 18 Richard Luckok (rmal@jet.uk) писал: : : Я видел различные ссылки на \"trople des\" в последнее время. Может ли кто-нибудь: рассказать мне, что это такое? Из контекста, я бы предположил, что это означает: шифровать каждый блок три раза, каждый раз с разными ключами, но я бы хотел быть уверен. : ответы по электронной почте предпочтительны - наши новости ненадежны. Не могли бы люди, отвечая на этот вопрос, также как я уверен, что другие (включая меня) хотели бы услышать их.'}],\n",
       " [{'translation_text': \"С: carter@ecf.toronto.edu (CARTER EDWARD A) Тема: Ре: Хорошие причины для волнения в другой организации: Университет Торонто, линия инженерного вычислительного оборудования: 19 jlevine@rd.girid.on.ca (Джоди Левин) пишет: >Кто-нибудь, во время вождения клетки, когда-либо махал в байкерах? Я получаю желание, > но я никогда этого не делал. Да, в день весны-лета, я спускаю окно и еду по велосипедам. Когда велосипеды движутся в противоположном направлении, я высовываю свою руку и хи5'м. Моя рука чувствует себя как миллион баксов, когда я делаю это 60 км/ч. Я делаю то же самое с велосипедистами. Единственная проблема с хипятящими в правой полосе - это их всегда на правой полосе. Я хефтаюсь по другому окну и хи5.\"}],\n",
       " [{'translation_text': 'С: brian@ucsd.edu (Brian Kantor) Тема: Re: HELP for Kidney Stones... Организация: Avant-Garde of the Now, Ltd. Lines: 12 NNTP-Post-Host: ucsd.edu (Я помню, что из моего боля с камнями в почках, не осталось никаких лекарств, которые могли бы ничего сделать с ними, кроме как облегчить боль. Либо они проходят, либо их нужно вырвать с помощью звука, или они должны быть извлечены хирургическим путем. Когда я был в рентгеновском аппарате, случилось, что у неё были камни и дети, и рождение ребенка было меньше. Демерол работал, хотя я чуть не был арестован по дороге домой, когда я заблевал всю полицейскую машину, припаркованную недалеко от скорой помощи - Брайан - Брайан.'}],\n",
       " [{'translation_text': 'Из: \"kwansik kim\" <kkim@cs.indiana.edu> Тема: Где FAQ? Организация: Индианский университет Компьютерные науки, Блумингтон Дистрибьютор: wea Lines: 4 Где я могу найти его? Спасибо, Квансик.'}],\n",
       " [{'translation_text': 'С: richs@microsoft.com (Rick Schaut) Тема: Re: Challenge to Microsoft Advisers. Организация: Microsoft Corporation Response-To: Rick Schaut (Rick Schaut) District: 13 В статье <14822@news.duce.edu> kdb@sunbar.mc.duke.edu (Kurt Bollacker) пишет: >Я согласен. Никто никогда не удовлетворял моему вызову — только семантика. Ох, ну, думаю, все получилось так, как я и ожидал. Я привел два примера, которые соответствовали твоим объективным критериям, и твой ответ был субъективным почерком о том, что они являются «ламами». Вы никогда не опровергали тот факт, что эти примеры соответствуют вашим объективным критериям.'}],\n",
       " [{'translation_text': \"От: jgold@chopin.udel.edu (Jonathan Goldstein) Тема: Re: Amazin's!!!!!!!!!!!!!!!!!!!!!!!!!!!!!!!!!!!!!!!!!!!!!!!!!!!!!!!!!!!! Мы пришли в третий раз они сказали, что Капс побьет нас и они не собираются сказать, что Питсбург имеет 1:1 соотношение победы над чашкой, но мы докажем им, что они неправы. L E T S O O S A N D E R S!!!!!!!!!\"}],\n",
       " [{'translation_text': 'Из: гольф@foenix.ouulu.fi (Jouko Kylmaoja) Тема: немецкая аудитория - сумасшедшая? Организация: Университет Оулу, Финляндия X-Newsreader: TIN [версия 1.1 PL9] Lines: 17 Я смотрел сегодня игру \"Germany-chechs\" в WC... и я был удивлен поведением немецкой аудитории. Немецкая команда получила несколько наказаний за последний период, и толпа стала сумасшедшей! Они бросили монеты, лишние шашки и другие мусорные мусоры в розыгрыш... это глупо или что? Я думаю, что канадский рефери (один из европейских шапочек в Стокгольме;) дал немецкой команде наказание за это, но это не очень помогло мне. Я думаю, что немцы просто гордятся своим отношением к нацистами-Килл-эм-Всей-Всей, но-Ай-Германцы-Сукс... они просто, похоже, имеют такое отношение во всех возможных видах спорта (помян европей шамп в футболе) Я не имею в виду, что каждый немец гордец гордится имеет такое отношение к себе.'}],\n",
       " [{'translation_text': 'С: twatch@orion.oac.uci.edu (Tim Clock) Тема: Египет призывает к борьбе с фундаменталистами, предметами для про-боснийских шагов Nntp-Posting-host: orion.oac.uci.edu Organization: California, Irwin Keyworchs: international, объединённые нации, правительство, правительство, правительство неюза, боевые линии: 14 В статье <1993Apr29.021345.210@ucsu.Colorado.EDU> Barrak@rintintintin.Colorado.EDU (Mohmmed F. Hadi) пишет: >В статье <benali.7359543@alcor> benali@alcor.concordia.ca (ILYESS B.BDRA) пишет: >85> ISABABABABDADTHDDDDDDTYDDDDDDTYDDDDDNDDDDYDDYDNDDDNDDDDYDDDDYDNDNDDYDDDDNDDDDDYDDDDYDYDYDYDNDDDNDNDNDYDYDDDDYDDDDDDNDDYDYDYDDDDDDYDDDYDYDYDDDDNDNDNDNDNDNDNDNDNDNDNDNDNDNDY'}],\n",
       " [{'translation_text': 'С: dmeier@casbah.acns.nwu.edu (Duglas Meier) Тема: Re: Послание для вас, г-н Председатель: Откуда вы знаете, что произошло? Ключевые слова: успех Nntp-Posting-Host: casbah.acns.nwu.edu Organization: Северо-западный университет, Evanston IL Lines: 5 -- Douglas C. Meier'}],\n",
       " [{'translation_text': 'С: Mayorga@mr_slate.cis.udel.edu (Anibal Marga) Тема: Организация по вопросу об образе диска: Делавэрский университет, Ньюарк Лайнз: 17 Распространение: usa NNTP-Post-Host: mr_slate.cis.udel.edu Hello, недавно я заметила, что на моем диске есть каталог под названием \"DiskImmage\". Я не заметила этого раньше, и я задаюсь вопросом, было ли это сделано при создании приложения с диском, или, если Вин3.1 автоматически создал резервное копирование его файлов. Я не смогла найти никакой документации на диске; изображение диска занимает много места на диске. Кто-нибудь знает, что это только люди, которые установили Вин3.1 или это резервный механизм? Спасибо, Анибаль -- -- -- ------------------------------------------------'}],\n",
       " [{'translation_text': 'С: Клинтон-HQ@Campaign92.Org (Белый дом) Тема: КЛИНТОН: Заявление президента об организации Waco: Lab Lab Lines: 29 NNTP-Posting-Host: Life.ai.mit.edu. Бюро Белого дома пресс-секретаря ------------------------------------------------------------------------------Настоящее освобождение от 19 апреля 1993 года.'}],\n",
       " [{'translation_text': 'С: bpeterers@oasys.dt.navy.mil (Brenda Peters) Тема: Ре: аллергические реакции на лазерные принтеры?? Ответ на: bpeterers@oasys.dt.navy.mil (Brenda Peters): Carderrock Division, NSWC, Betesda, MD Lines: 34 in sci.med, rdd@uts.ipp-gstream.mpg.de (Reinhardd Drube) пишет: >Hello, > кто знает об аллергических реакциях, вызванных разработчиком/тонером > лазерных принтеров? > что касается химического вещества? > Thanks in ad presid? > Reinhard >email: rdd@ibma.ipp-gsload.d.d.'}],\n",
       " [{'translation_text': 'Тема: Re: FAKE God, HOLY LIES Organization: Sgi Lines: 10 Distribution: World NNTP-Posting-Host: solntze.wpd.sgi.com В статье <1993Apr22.1301.12179@zeus.calpoly.edu>, dmcaloon@tuba.calpoly.edu (David Mcaloon) пишет: > REMLER: Einstien сказал, что воображение больше, чем знание!! Затем Эйнштейн должен был пообедать со мной вчера на Tien Fu на Кастро-стрит, когда они передали мне печенье с предсказанием, в котором говорилось: «Он, у которого есть воображение, но нет знаний, но нет ног».'}],\n",
       " [{'translation_text': 'С: bu534@cvilland.Freenet.Edu (Bill E Johns) Тема: Ре: Организация по вопросам расовой дискриминации и насилия: Кейс Вестерн Резервный университет, Кливленд, Огайо (США): 2 NNTP-Posting-Host: hela.ins.cwru.edu'}],\n",
       " [{'translation_text': 'В статье <1r477q1vk@sbtri.sbc.com>, tph@susie.sbc.com (Timothy P. Henion) пишет: > В статье <1993Apr21.0939.1@woods.ulowell.edu> cotera@woods.ulowell.edu пишет:>Я предполагаю, что у вас есть доказательства того, что он виновен в смерти? > только мой общий смысл. Огонь был вызван либо Корешем, либо его последователями, либо сотрудниками FBI/ATF/SIA/KGB/, и, возможно, что Харпер-Вэлли-PTA. Поскольку > вы бросаетесь вокруг доказательств, то он утверждает, что это был тот, кто защищал его. > Можете ли вы доказать, что это сделал какой-либо правительственный орган? (Пожалуйста, не прибегните к «этому они доказывали это».'}],\n",
       " [{'translation_text': 'С: simun@unity.ncsu.edu (Josip NMI Simunovic) Тема: IBM 5272 ColorDisplay для 3270PC? Статья I.D.: ncsu.1993Apr222527.27590 Организация: NCSU Lines: 10 X-Newsreader: TIN [версия 1.1 PL8] У меня есть один из этих мониторов. Похоже, что он функционирует нормально, но не подходит для любого стандарта (CGA,EGA, VGA) - он включит в себя, но привяжет к ним скользкий диагональный шум. У меня также есть графическая доска, которая, по-видимому, является графической доской 3270 (двойная карточка с 2 8-битными соединителями автобусов и 9-штабным женским соединителем с картиной монитора). Я попробовал подключить этих двоих к стандартному AT.'}],\n",
       " [{'translation_text': 'С: smorris@sumax.sittleu.edu (Steven A. Morris) Тема: Ре: Lexus and Infiniti Organization: Study Studies Programme, Syteel University Lines: 20 NNTP-Post: sumax.sittleu.edu В статье <AfqzhS00iV1E2Yss@andrew.cmu.edu> «Joseph D. Mazzza» <mazz+andw.cm.cmu.edu» пишет: >BTW, я только что увидел новый Q45 по телевизору на этих выходных. Большие изменения: >GRILE был добавлен (выглядит также красиво!) и некоторые WOD для >interior. В противном случае, они выглядели практически без изменений.'}],\n",
       " [{'translation_text': 'С: pbhandar@tsegw.tse.com (Parminder Bhandari) Тема: Информация об организации Audi 90 (используемой): Торонтская фондовая биржа дистрибьютор: Rection Lines: 10. Я думаю о покупке использованной Audi 90 Auto. Эти машины выглядят хорошо, и у Audi есть хорошая репутация для этих автомобилей в Европе (где я родом).'}],\n",
       " [{'translation_text': 'С: k044477@hobbes.kzoo.edu (Jamie R. McCarthy) Тема: Ре: Новое исследование по вопросу о процентном соотношении геев: Clayton тянет ногу во рту: Kalamazoo College Lines: 11 cramer@optilink.COM (Clayton Cramer) пишет: > ># # Среднее число сексуальных партнеров для всех мужчин 20-39 было 7,3. > >## не забывайте, что 25% имели 20 или более партнеров... > > Не удивляйтесь. Это исследование также включает гомосексуалов. ...что сделало бы число 15%, правильно Клейтон? — Джейми Маккарти Интернет: k044477@kzooo.edu AppleLink: j.mcccarthy: j.mccarthy'}],\n",
       " [{'translation_text': 'С: stathh@pegasus.cs.uiuc.edu (Dale Stephenson) Тема: Ре: Неон Деон Сандерс (Braves and Giants) Организация: Иллинойсский университет, Департамент Комп. Sci., Urbana, IL Lines: 22 В <128f6$79f@zippy.telcom.arizona.edu> r49385@jopin.biosci.arizona.edu (Dug Robertzona) пишет: «Вообще-то, кто-то другой не похож на Деон? Я думаю, что он вся в гипсе. > 300 сезон в прошлом году был хорош, но я не уверен, что он может сделать это снова». Это напоминает мне (sryh) о том, что в 1987(?) больше, чем в 1987 году.'}],\n",
       " [{'translation_text': '. . . . . . . . . . . . . . . . . . . . . . . . . . . . . . . . . . . . . . . . . . . . . . . . . . . . . . . . . . . . . . . . . . . . . . . . . . . . . . . . . . . . . . . . . . . . . . . . . . . . . . . . . . . . . . . . . . . . . . . . . . . . . . . . . . . . . . . . . . . . . . . . . . . . . . . . . . . . . .'}],\n",
       " [{'translation_text': 'С: au472@cvilland.Freenet.Edu (Др. Джошуа Бэктон) Тема: Ре: Западный берег и бейсбольная организация: Западный резервный университет, Кливленд, Огайо (США) линии: 13 NNTP-Post-host: hela.ins.cwru.edu. В сентябре 1990 года наше отделение медицинского резерва было направлено в тюремный лагерь КЕТЦИТ для ухода за арабскими заключенными, которые содержались в 5 секциях из 1500 заключенных каждая, причем каждая секция была разделена на 5 блоков, в которых содержалось 300 заключенных.'}],\n",
       " [{'translation_text': 'С: elecla@madvlsi.columbia.edu (Sema Varma) Тема: Luser! Организация: Колумбийский университет X-Posted-From: china.madvlsi.columbia.edu NNTP-Post: sol.tr.columbia.edu Lines: 13 Hi, я ищу очень высокоскоростный конвертер D/A (по крайней мере 8 битов и 150 МГц) для прикладного исследования.'}],\n",
       " [{'translation_text': 'С: tas@pegasus.com (Len Howard) Тема: Ре: Сатана выгнан из рая: Библия? Организация: Пегас, Гонолулу Линии: 14 В статье <May.7.01.09.04.194501@athos.rutgers.edu> asteee@wkuvx1.bitnet пишет: >Hello все, > у меня вопрос о Сатане. > Меня давно учили >, что Сатана действительно был ангелом Бога и был изгнан с неба > потому, что он поставил под сомнение авторитет Бога. Проблема в том, что я не могу > определить это в Библии. Если это не было в Библии?'}],\n",
       " [{'translation_text': 'В статье <193Apr20.0107.18225@megatek.com> pandy@megatek.com пишет: >. Возможно, DWI in Louzyana *is* Задержанный >>toquor? >* В Луизиане все связано с ликером: еда, сон, ходьба, >talking, церковь, состояние, жизнь, смерть и все, что между ними.'}],\n",
       " [{'translation_text': 'С: Jak@fff.chem.utah.edu (Mr. Stress) Тема: Hosed HD? Организация: Университет Utah Computer Central Lines: 25 Hey All-We старый (1990) внешний HD прикреплён к Plus в нашей лаборатории. Он дал нам безупречную услугу до прошлой недели. Проблема: у кого-то в нашей лаборатории есть старый 512, который был модернизирован пару лет назад до Plus с установкой SIMMM/SCSI (Digigraphics \"SIMMmer\"). ДБ25 SCSI протягивает через спину машины и прикрепляет к доске 26-штабной прямоугольный соединитель. Ну, этот парень снял с правой машины, чтобы запомнить больше памяти, и отключил SSCSI. Так как 26-штабный соединитель - это симметрично (без ключа), он, возможно, попытался перевернуть все штипс на DB25.'}],\n",
       " [{'translation_text': 'Из: STK1203@VAX03.STOCKTon.EDU Тема: Большой THANKS X-Add: Переведено организацией Космического Дневника: [через Международный Космический университет] Оригинально: isu@VACATION.VENARI.CS.CMU.EDU Распространение: sci Lines: 21 Я хотел бы поблагодарить всех и всех, кто прислал мне информацию, чтобы помочь мне с моим проектом.'}],\n",
       " [{'translation_text': 'Из: Марк Б. Тема: \"Вы можете это проверить\". Организация: Департамент химии Университета Торонто: 12 Да, я мог бы поискать, но я предпочитаю поместить этот вопрос в сеть... Я читал где-то в давно забытой статье, что ручные сигналы, используемые с помощью насосов большой лиги, изначально использовались для оказания помощи глухому игроку по имени \"Дамми\". Городской миф? Правда? Я знаю. Марк Б. mbrownel@alchemy.chem.utoronto.ca.'}],\n",
       " [{'translation_text': 'С: pngai@adobe.com (Phil Ngai) Тема: Ре: ATF BURNS DIVIDIAN RANCH! No SURVIVORS!!!!! Организация: Adobe Systems Inncorporated Lines: 14 В статье <nat.1507.7358109@psigate.psic.indiana.edu> nat@psigage.psicch.indiana.edu (Natan Engle) пишет: > Я признаю, что я не могу сослаться на конкретный закон, но если нет закона, запрещающего «закупку компонентов гранаты и их сборку в функционирующие подразделения > тогда, возможно, нам он нужен.'}],\n",
       " [{'translation_text': 'С: daw@spacsun.rice.edu (Peter Walker) Тема: Ре: Христианская мораль есть Организация: я не делал этого, никто не видел меня, вы не можете доказать что-то. Стражи: 47 В статье <4963@eastman.UUCP>, dps@nasa.kodak.com (Dan Schaertel,) написал: > > Жизнь, смерть и восстановление Христа — это документальный факт. Ни один из них не может поверить, что кто-либо может умереть. Они никогда не говорят, что ни один из них не поверит, что кто-то еще не поверил в историю. Позаботится о том, что ложь апологет с самого начала. > Однако все основные события жизни Иисуса Христа были за несколько сотен лет до него. Нейт трюк u? Не может быть.'}],\n",
       " [{'translation_text': 'С: tedward@cs.cornell.edu (Edward [Ted] Fisher) Тема: Ре: Jack Morris Organization: Cornell Univ. CS Dept, Ithaka NY 14853 Lines: 31 В статье < 1993Apr19.160012.24850@sni.ca> dave@snitor.sni.ca (Dave Till) пишет: > > Я не думаю, что это было очевидно в то время, когда Viola была лучше. >Morris и Viola были сопоставимыми соотношениями между K/IP в 1991 году. Viola пришла > на травму, в то время как Моррис был здоров. В то время, когда я не хотел, чтобы Sox подписывался. Я больше чем беспокоился о локте Виолы. Но вы, конечно, не должны были принимать это на себя.'}],\n",
       " [{'translation_text': 'С: Andrew@HotelCA.tech.umbc.edu (Andrew Williams) Тема: Ошибочные сигналы на ботинках: Университет Мэриленда, Кэмпус округа Балтимор: 15 NNTP-Post: gotelca.tech.umbc.edu Я обслуживаю машину (HP-286) и всякий раз, когда эта штука начинается, я получаю 4 сигнала на электропитание. Кто-нибудь знает, что это означает? У меня нет никаких проблем с машиной, но женщина, которая ее использует, \"очень обеспокоена\" этим. Разве вы не любите компьютеры HP???'}],\n",
       " [{'translation_text': 'Сет Адам Элиот <Se08+@andrew.cmu.edu> Тема: Сенат и организация: Доктор, материаловедение и техника, Карнеги Меллон, Питтсбург, Pittsburgh, PA Lines: 27 District: usa NNTP-Post: po4.andrevel.cmu.edu In-Reply-To: <1993Apr21 160803.242@ccsvax-fasu.edu> > В статье <C5uA7r.DAD@da_vinc.us.com>, pprun@aguust.it.usc.uswc.we > > > просит ли кто-нибудь сообщить общие адреса для Конгресса и > Сената, с тем чтобы мы могли написать все письма?'}]]"
      ]
     },
     "execution_count": 66,
     "metadata": {},
     "output_type": "execute_result"
    }
   ],
   "source": [
    "translations"
   ]
  },
  {
   "cell_type": "markdown",
   "metadata": {},
   "source": [
    "Треш, угар и содомия"
   ]
  },
  {
   "cell_type": "code",
   "execution_count": null,
   "metadata": {},
   "outputs": [],
   "source": []
  },
  {
   "cell_type": "code",
   "execution_count": null,
   "metadata": {},
   "outputs": [],
   "source": []
  }
 ],
 "metadata": {
  "interpreter": {
   "hash": "7b2bd16c4a5b7bdb943c513e9c5dbb440fb1e7bca9cf829d440576f5014c581f"
  },
  "kernelspec": {
   "display_name": "Python 3.9.5 64-bit",
   "language": "python",
   "name": "python3"
  },
  "language_info": {
   "codemirror_mode": {
    "name": "ipython",
    "version": 3
   },
   "file_extension": ".py",
   "mimetype": "text/x-python",
   "name": "python",
   "nbconvert_exporter": "python",
   "pygments_lexer": "ipython3",
   "version": "3.9.5"
  },
  "orig_nbformat": 4
 },
 "nbformat": 4,
 "nbformat_minor": 2
}
